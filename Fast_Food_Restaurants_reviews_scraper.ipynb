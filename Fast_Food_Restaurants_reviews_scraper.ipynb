{
 "cells": [
  {
   "cell_type": "code",
   "execution_count": 1,
   "id": "96e8c91d",
   "metadata": {},
   "outputs": [],
   "source": [
    "import pandas as pd\n",
    "from google_play_scraper import reviews_all,Sort"
   ]
  },
  {
   "cell_type": "code",
   "execution_count": 3,
   "id": "8e9351c2",
   "metadata": {},
   "outputs": [],
   "source": [
    "restaurant_ids=['com.wendys.nutritiontool','com.mcdonalds.mobileapp','in.burgerking.android','com.chickfila.cfaflagship','com.fiveguys.olo.android']"
   ]
  },
  {
   "cell_type": "code",
   "execution_count": 4,
   "id": "a1b4f814",
   "metadata": {},
   "outputs": [],
   "source": [
    "restaurants=['Wendys','McDonalds','Burger King','Chick-fil-A','Five Guys']"
   ]
  },
  {
   "cell_type": "code",
   "execution_count": 31,
   "id": "bf5b2dc3",
   "metadata": {},
   "outputs": [],
   "source": [
    "df=pd.DataFrame()\n",
    "for restaurantid, restaurant in zip(restaurant_ids, restaurants):\n",
    "    sub_df_len=0\n",
    "    while sub_df_len<1000:\n",
    "        reviews = reviews_all(restid,lang='en', country='US', sort=Sort.NEWEST)\n",
    "        sub_df=pd.json_normalize(reviews)\n",
    "        sub_df_len=len(sub_df)\n",
    "    sub_df['Restaurant']=restaurant\n",
    "    df=pd.concat([df,sub_df],ignore_index=True)"
   ]
  },
  {
   "cell_type": "code",
   "execution_count": 32,
   "id": "a7be827c",
   "metadata": {
    "scrolled": true
   },
   "outputs": [
    {
     "data": {
      "text/html": [
       "<div>\n",
       "<style scoped>\n",
       "    .dataframe tbody tr th:only-of-type {\n",
       "        vertical-align: middle;\n",
       "    }\n",
       "\n",
       "    .dataframe tbody tr th {\n",
       "        vertical-align: top;\n",
       "    }\n",
       "\n",
       "    .dataframe thead th {\n",
       "        text-align: right;\n",
       "    }\n",
       "</style>\n",
       "<table border=\"1\" class=\"dataframe\">\n",
       "  <thead>\n",
       "    <tr style=\"text-align: right;\">\n",
       "      <th></th>\n",
       "      <th>reviewId</th>\n",
       "      <th>userName</th>\n",
       "      <th>userImage</th>\n",
       "      <th>content</th>\n",
       "      <th>score</th>\n",
       "      <th>thumbsUpCount</th>\n",
       "      <th>reviewCreatedVersion</th>\n",
       "      <th>at</th>\n",
       "      <th>replyContent</th>\n",
       "      <th>repliedAt</th>\n",
       "      <th>appVersion</th>\n",
       "      <th>Restaurant</th>\n",
       "    </tr>\n",
       "  </thead>\n",
       "  <tbody>\n",
       "    <tr>\n",
       "      <th>0</th>\n",
       "      <td>981679b0-3780-4f2b-b385-30734072dcf2</td>\n",
       "      <td>LaRia Walker</td>\n",
       "      <td>https://play-lh.googleusercontent.com/a-/ALV-U...</td>\n",
       "      <td>The app is always having technical difficultie...</td>\n",
       "      <td>1</td>\n",
       "      <td>0</td>\n",
       "      <td>10.4.0</td>\n",
       "      <td>2024-04-14 04:40:22</td>\n",
       "      <td>None</td>\n",
       "      <td>NaT</td>\n",
       "      <td>10.4.0</td>\n",
       "      <td>Wendys</td>\n",
       "    </tr>\n",
       "    <tr>\n",
       "      <th>1</th>\n",
       "      <td>6a3cca51-565a-45ff-8b93-bc143006fe99</td>\n",
       "      <td>Josh Roe</td>\n",
       "      <td>https://play-lh.googleusercontent.com/a-/ALV-U...</td>\n",
       "      <td>Doesn't work most of the time. When I log in I...</td>\n",
       "      <td>1</td>\n",
       "      <td>0</td>\n",
       "      <td>11.0.7</td>\n",
       "      <td>2024-04-14 03:45:14</td>\n",
       "      <td>None</td>\n",
       "      <td>NaT</td>\n",
       "      <td>11.0.7</td>\n",
       "      <td>Wendys</td>\n",
       "    </tr>\n",
       "    <tr>\n",
       "      <th>2</th>\n",
       "      <td>8f6b8874-55a3-4f06-8437-624ca1c9f32e</td>\n",
       "      <td>Seth Dowling</td>\n",
       "      <td>https://play-lh.googleusercontent.com/a-/ALV-U...</td>\n",
       "      <td>The app doesn't accept any payment methods. Tr...</td>\n",
       "      <td>1</td>\n",
       "      <td>0</td>\n",
       "      <td>10.4.0</td>\n",
       "      <td>2024-04-14 03:17:27</td>\n",
       "      <td>None</td>\n",
       "      <td>NaT</td>\n",
       "      <td>10.4.0</td>\n",
       "      <td>Wendys</td>\n",
       "    </tr>\n",
       "    <tr>\n",
       "      <th>3</th>\n",
       "      <td>2369febd-abd5-4983-ac0a-26acdae98110</td>\n",
       "      <td>Brandon Gallant</td>\n",
       "      <td>https://play-lh.googleusercontent.com/a/ACg8oc...</td>\n",
       "      <td>Good for ordering food. However, don't be dece...</td>\n",
       "      <td>1</td>\n",
       "      <td>0</td>\n",
       "      <td>10.4.0</td>\n",
       "      <td>2024-04-14 03:08:58</td>\n",
       "      <td>None</td>\n",
       "      <td>NaT</td>\n",
       "      <td>10.4.0</td>\n",
       "      <td>Wendys</td>\n",
       "    </tr>\n",
       "    <tr>\n",
       "      <th>4</th>\n",
       "      <td>b177de05-8847-473c-a020-eaaf737f2de2</td>\n",
       "      <td>Derrell Freeman</td>\n",
       "      <td>https://play-lh.googleusercontent.com/a-/ALV-U...</td>\n",
       "      <td>great app thanks alot</td>\n",
       "      <td>5</td>\n",
       "      <td>0</td>\n",
       "      <td>10.4.0</td>\n",
       "      <td>2024-04-14 02:30:28</td>\n",
       "      <td>None</td>\n",
       "      <td>NaT</td>\n",
       "      <td>10.4.0</td>\n",
       "      <td>Wendys</td>\n",
       "    </tr>\n",
       "  </tbody>\n",
       "</table>\n",
       "</div>"
      ],
      "text/plain": [
       "                               reviewId         userName  \\\n",
       "0  981679b0-3780-4f2b-b385-30734072dcf2     LaRia Walker   \n",
       "1  6a3cca51-565a-45ff-8b93-bc143006fe99         Josh Roe   \n",
       "2  8f6b8874-55a3-4f06-8437-624ca1c9f32e     Seth Dowling   \n",
       "3  2369febd-abd5-4983-ac0a-26acdae98110  Brandon Gallant   \n",
       "4  b177de05-8847-473c-a020-eaaf737f2de2  Derrell Freeman   \n",
       "\n",
       "                                           userImage  \\\n",
       "0  https://play-lh.googleusercontent.com/a-/ALV-U...   \n",
       "1  https://play-lh.googleusercontent.com/a-/ALV-U...   \n",
       "2  https://play-lh.googleusercontent.com/a-/ALV-U...   \n",
       "3  https://play-lh.googleusercontent.com/a/ACg8oc...   \n",
       "4  https://play-lh.googleusercontent.com/a-/ALV-U...   \n",
       "\n",
       "                                             content  score  thumbsUpCount  \\\n",
       "0  The app is always having technical difficultie...      1              0   \n",
       "1  Doesn't work most of the time. When I log in I...      1              0   \n",
       "2  The app doesn't accept any payment methods. Tr...      1              0   \n",
       "3  Good for ordering food. However, don't be dece...      1              0   \n",
       "4                              great app thanks alot      5              0   \n",
       "\n",
       "  reviewCreatedVersion                  at replyContent repliedAt appVersion  \\\n",
       "0               10.4.0 2024-04-14 04:40:22         None       NaT     10.4.0   \n",
       "1               11.0.7 2024-04-14 03:45:14         None       NaT     11.0.7   \n",
       "2               10.4.0 2024-04-14 03:17:27         None       NaT     10.4.0   \n",
       "3               10.4.0 2024-04-14 03:08:58         None       NaT     10.4.0   \n",
       "4               10.4.0 2024-04-14 02:30:28         None       NaT     10.4.0   \n",
       "\n",
       "  Restaurant  \n",
       "0     Wendys  \n",
       "1     Wendys  \n",
       "2     Wendys  \n",
       "3     Wendys  \n",
       "4     Wendys  "
      ]
     },
     "execution_count": 32,
     "metadata": {},
     "output_type": "execute_result"
    }
   ],
   "source": [
    "df.head()"
   ]
  },
  {
   "cell_type": "code",
   "execution_count": 33,
   "id": "62214f1d",
   "metadata": {
    "scrolled": true
   },
   "outputs": [
    {
     "data": {
      "text/plain": [
       "Restaurant\n",
       "Wendys         2189\n",
       "Chick-fil-A    1592\n",
       "McDonalds      1393\n",
       "Burger King    1393\n",
       "Five Guys      1194\n",
       "Name: count, dtype: int64"
      ]
     },
     "execution_count": 33,
     "metadata": {},
     "output_type": "execute_result"
    }
   ],
   "source": [
    "num_reviews_per_restaurant = df['Restaurant'].value_counts()\n",
    "num_reviews_per_restaurant"
   ]
  },
  {
   "cell_type": "code",
   "execution_count": 34,
   "id": "be8d2714",
   "metadata": {},
   "outputs": [],
   "source": [
    "df.to_csv('FastFoodReviews.csv', index=False)"
   ]
  }
 ],
 "metadata": {
  "kernelspec": {
   "display_name": "Python 3 (ipykernel)",
   "language": "python",
   "name": "python3"
  },
  "language_info": {
   "codemirror_mode": {
    "name": "ipython",
    "version": 3
   },
   "file_extension": ".py",
   "mimetype": "text/x-python",
   "name": "python",
   "nbconvert_exporter": "python",
   "pygments_lexer": "ipython3",
   "version": "3.11.5"
  }
 },
 "nbformat": 4,
 "nbformat_minor": 5
}
