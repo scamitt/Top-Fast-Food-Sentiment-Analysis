{
 "cells": [
  {
   "cell_type": "markdown",
   "id": "b8bddfa6",
   "metadata": {},
   "source": [
    "## Importing dependancies"
   ]
  },
  {
   "cell_type": "code",
   "execution_count": 1,
   "id": "84cbe6b3",
   "metadata": {
    "scrolled": false
   },
   "outputs": [],
   "source": [
    "import pandas as pd\n",
    "import nltk\n",
    "from nltk.tokenize import word_tokenize\n",
    "from nltk.corpus import stopwords\n",
    "import warnings\n",
    "warnings.filterwarnings(\"ignore\")"
   ]
  },
  {
   "cell_type": "code",
   "execution_count": 2,
   "id": "7aaa5afe",
   "metadata": {},
   "outputs": [],
   "source": [
    "df_uncleaned= pd.read_csv('FastFoodReviews.csv')"
   ]
  },
  {
   "cell_type": "markdown",
   "id": "66dd9085",
   "metadata": {},
   "source": [
    "## Data Preprocessing "
   ]
  },
  {
   "cell_type": "code",
   "execution_count": 3,
   "id": "059938b2",
   "metadata": {
    "scrolled": false
   },
   "outputs": [
    {
     "data": {
      "text/html": [
       "<div>\n",
       "<style scoped>\n",
       "    .dataframe tbody tr th:only-of-type {\n",
       "        vertical-align: middle;\n",
       "    }\n",
       "\n",
       "    .dataframe tbody tr th {\n",
       "        vertical-align: top;\n",
       "    }\n",
       "\n",
       "    .dataframe thead th {\n",
       "        text-align: right;\n",
       "    }\n",
       "</style>\n",
       "<table border=\"1\" class=\"dataframe\">\n",
       "  <thead>\n",
       "    <tr style=\"text-align: right;\">\n",
       "      <th></th>\n",
       "      <th>reviewId</th>\n",
       "      <th>userName</th>\n",
       "      <th>userImage</th>\n",
       "      <th>content</th>\n",
       "      <th>score</th>\n",
       "      <th>thumbsUpCount</th>\n",
       "      <th>reviewCreatedVersion</th>\n",
       "      <th>at</th>\n",
       "      <th>replyContent</th>\n",
       "      <th>repliedAt</th>\n",
       "      <th>appVersion</th>\n",
       "      <th>Restaurant</th>\n",
       "    </tr>\n",
       "  </thead>\n",
       "  <tbody>\n",
       "    <tr>\n",
       "      <th>0</th>\n",
       "      <td>981679b0-3780-4f2b-b385-30734072dcf2</td>\n",
       "      <td>LaRia Walker</td>\n",
       "      <td>https://play-lh.googleusercontent.com/a-/ALV-U...</td>\n",
       "      <td>The app is always having technical difficultie...</td>\n",
       "      <td>1</td>\n",
       "      <td>0</td>\n",
       "      <td>10.4.0</td>\n",
       "      <td>2024-04-14 04:40:22</td>\n",
       "      <td>NaN</td>\n",
       "      <td>NaN</td>\n",
       "      <td>10.4.0</td>\n",
       "      <td>Wendys</td>\n",
       "    </tr>\n",
       "    <tr>\n",
       "      <th>1</th>\n",
       "      <td>6a3cca51-565a-45ff-8b93-bc143006fe99</td>\n",
       "      <td>Josh Roe</td>\n",
       "      <td>https://play-lh.googleusercontent.com/a-/ALV-U...</td>\n",
       "      <td>Doesn't work most of the time. When I log in I...</td>\n",
       "      <td>1</td>\n",
       "      <td>0</td>\n",
       "      <td>11.0.7</td>\n",
       "      <td>2024-04-14 03:45:14</td>\n",
       "      <td>NaN</td>\n",
       "      <td>NaN</td>\n",
       "      <td>11.0.7</td>\n",
       "      <td>Wendys</td>\n",
       "    </tr>\n",
       "    <tr>\n",
       "      <th>2</th>\n",
       "      <td>8f6b8874-55a3-4f06-8437-624ca1c9f32e</td>\n",
       "      <td>Seth Dowling</td>\n",
       "      <td>https://play-lh.googleusercontent.com/a-/ALV-U...</td>\n",
       "      <td>The app doesn't accept any payment methods. Tr...</td>\n",
       "      <td>1</td>\n",
       "      <td>0</td>\n",
       "      <td>10.4.0</td>\n",
       "      <td>2024-04-14 03:17:27</td>\n",
       "      <td>NaN</td>\n",
       "      <td>NaN</td>\n",
       "      <td>10.4.0</td>\n",
       "      <td>Wendys</td>\n",
       "    </tr>\n",
       "    <tr>\n",
       "      <th>3</th>\n",
       "      <td>2369febd-abd5-4983-ac0a-26acdae98110</td>\n",
       "      <td>Brandon Gallant</td>\n",
       "      <td>https://play-lh.googleusercontent.com/a/ACg8oc...</td>\n",
       "      <td>Good for ordering food. However, don't be dece...</td>\n",
       "      <td>1</td>\n",
       "      <td>0</td>\n",
       "      <td>10.4.0</td>\n",
       "      <td>2024-04-14 03:08:58</td>\n",
       "      <td>NaN</td>\n",
       "      <td>NaN</td>\n",
       "      <td>10.4.0</td>\n",
       "      <td>Wendys</td>\n",
       "    </tr>\n",
       "    <tr>\n",
       "      <th>4</th>\n",
       "      <td>b177de05-8847-473c-a020-eaaf737f2de2</td>\n",
       "      <td>Derrell Freeman</td>\n",
       "      <td>https://play-lh.googleusercontent.com/a-/ALV-U...</td>\n",
       "      <td>great app thanks alot</td>\n",
       "      <td>5</td>\n",
       "      <td>0</td>\n",
       "      <td>10.4.0</td>\n",
       "      <td>2024-04-14 02:30:28</td>\n",
       "      <td>NaN</td>\n",
       "      <td>NaN</td>\n",
       "      <td>10.4.0</td>\n",
       "      <td>Wendys</td>\n",
       "    </tr>\n",
       "  </tbody>\n",
       "</table>\n",
       "</div>"
      ],
      "text/plain": [
       "                               reviewId         userName  \\\n",
       "0  981679b0-3780-4f2b-b385-30734072dcf2     LaRia Walker   \n",
       "1  6a3cca51-565a-45ff-8b93-bc143006fe99         Josh Roe   \n",
       "2  8f6b8874-55a3-4f06-8437-624ca1c9f32e     Seth Dowling   \n",
       "3  2369febd-abd5-4983-ac0a-26acdae98110  Brandon Gallant   \n",
       "4  b177de05-8847-473c-a020-eaaf737f2de2  Derrell Freeman   \n",
       "\n",
       "                                           userImage  \\\n",
       "0  https://play-lh.googleusercontent.com/a-/ALV-U...   \n",
       "1  https://play-lh.googleusercontent.com/a-/ALV-U...   \n",
       "2  https://play-lh.googleusercontent.com/a-/ALV-U...   \n",
       "3  https://play-lh.googleusercontent.com/a/ACg8oc...   \n",
       "4  https://play-lh.googleusercontent.com/a-/ALV-U...   \n",
       "\n",
       "                                             content  score  thumbsUpCount  \\\n",
       "0  The app is always having technical difficultie...      1              0   \n",
       "1  Doesn't work most of the time. When I log in I...      1              0   \n",
       "2  The app doesn't accept any payment methods. Tr...      1              0   \n",
       "3  Good for ordering food. However, don't be dece...      1              0   \n",
       "4                              great app thanks alot      5              0   \n",
       "\n",
       "  reviewCreatedVersion                   at replyContent repliedAt appVersion  \\\n",
       "0               10.4.0  2024-04-14 04:40:22          NaN       NaN     10.4.0   \n",
       "1               11.0.7  2024-04-14 03:45:14          NaN       NaN     11.0.7   \n",
       "2               10.4.0  2024-04-14 03:17:27          NaN       NaN     10.4.0   \n",
       "3               10.4.0  2024-04-14 03:08:58          NaN       NaN     10.4.0   \n",
       "4               10.4.0  2024-04-14 02:30:28          NaN       NaN     10.4.0   \n",
       "\n",
       "  Restaurant  \n",
       "0     Wendys  \n",
       "1     Wendys  \n",
       "2     Wendys  \n",
       "3     Wendys  \n",
       "4     Wendys  "
      ]
     },
     "execution_count": 3,
     "metadata": {},
     "output_type": "execute_result"
    }
   ],
   "source": [
    "df_uncleaned.head()"
   ]
  },
  {
   "cell_type": "code",
   "execution_count": 4,
   "id": "b7f8c182",
   "metadata": {},
   "outputs": [
    {
     "data": {
      "text/plain": [
       "Index(['reviewId', 'userName', 'userImage', 'content', 'score',\n",
       "       'thumbsUpCount', 'reviewCreatedVersion', 'at', 'replyContent',\n",
       "       'repliedAt', 'appVersion', 'Restaurant'],\n",
       "      dtype='object')"
      ]
     },
     "execution_count": 4,
     "metadata": {},
     "output_type": "execute_result"
    }
   ],
   "source": [
    "df_uncleaned.columns"
   ]
  },
  {
   "cell_type": "code",
   "execution_count": 5,
   "id": "2d545a42",
   "metadata": {},
   "outputs": [],
   "source": [
    "df_uncleaned=df_uncleaned[['content','score','Restaurant']]"
   ]
  },
  {
   "cell_type": "code",
   "execution_count": 6,
   "id": "6a5ed78e",
   "metadata": {
    "scrolled": true
   },
   "outputs": [
    {
     "data": {
      "text/html": [
       "<div>\n",
       "<style scoped>\n",
       "    .dataframe tbody tr th:only-of-type {\n",
       "        vertical-align: middle;\n",
       "    }\n",
       "\n",
       "    .dataframe tbody tr th {\n",
       "        vertical-align: top;\n",
       "    }\n",
       "\n",
       "    .dataframe thead th {\n",
       "        text-align: right;\n",
       "    }\n",
       "</style>\n",
       "<table border=\"1\" class=\"dataframe\">\n",
       "  <thead>\n",
       "    <tr style=\"text-align: right;\">\n",
       "      <th></th>\n",
       "      <th>content</th>\n",
       "      <th>score</th>\n",
       "      <th>Restaurant</th>\n",
       "    </tr>\n",
       "  </thead>\n",
       "  <tbody>\n",
       "    <tr>\n",
       "      <th>0</th>\n",
       "      <td>The app is always having technical difficultie...</td>\n",
       "      <td>1</td>\n",
       "      <td>Wendys</td>\n",
       "    </tr>\n",
       "    <tr>\n",
       "      <th>1</th>\n",
       "      <td>Doesn't work most of the time. When I log in I...</td>\n",
       "      <td>1</td>\n",
       "      <td>Wendys</td>\n",
       "    </tr>\n",
       "    <tr>\n",
       "      <th>2</th>\n",
       "      <td>The app doesn't accept any payment methods. Tr...</td>\n",
       "      <td>1</td>\n",
       "      <td>Wendys</td>\n",
       "    </tr>\n",
       "    <tr>\n",
       "      <th>3</th>\n",
       "      <td>Good for ordering food. However, don't be dece...</td>\n",
       "      <td>1</td>\n",
       "      <td>Wendys</td>\n",
       "    </tr>\n",
       "    <tr>\n",
       "      <th>4</th>\n",
       "      <td>great app thanks alot</td>\n",
       "      <td>5</td>\n",
       "      <td>Wendys</td>\n",
       "    </tr>\n",
       "    <tr>\n",
       "      <th>...</th>\n",
       "      <td>...</td>\n",
       "      <td>...</td>\n",
       "      <td>...</td>\n",
       "    </tr>\n",
       "    <tr>\n",
       "      <th>7756</th>\n",
       "      <td>They asked for to much personal information</td>\n",
       "      <td>1</td>\n",
       "      <td>Five Guys</td>\n",
       "    </tr>\n",
       "    <tr>\n",
       "      <th>7757</th>\n",
       "      <td>Won't take your CC info. Crashes all the time.</td>\n",
       "      <td>1</td>\n",
       "      <td>Five Guys</td>\n",
       "    </tr>\n",
       "    <tr>\n",
       "      <th>7758</th>\n",
       "      <td>Very nice website with easy ordering and great...</td>\n",
       "      <td>5</td>\n",
       "      <td>Five Guys</td>\n",
       "    </tr>\n",
       "    <tr>\n",
       "      <th>7759</th>\n",
       "      <td>can't pay with card and app takes forever to l...</td>\n",
       "      <td>1</td>\n",
       "      <td>Five Guys</td>\n",
       "    </tr>\n",
       "    <tr>\n",
       "      <th>7760</th>\n",
       "      <td>This is a joke, right The App has NO WAY TO ge...</td>\n",
       "      <td>1</td>\n",
       "      <td>Five Guys</td>\n",
       "    </tr>\n",
       "  </tbody>\n",
       "</table>\n",
       "<p>7761 rows × 3 columns</p>\n",
       "</div>"
      ],
      "text/plain": [
       "                                                content  score Restaurant\n",
       "0     The app is always having technical difficultie...      1     Wendys\n",
       "1     Doesn't work most of the time. When I log in I...      1     Wendys\n",
       "2     The app doesn't accept any payment methods. Tr...      1     Wendys\n",
       "3     Good for ordering food. However, don't be dece...      1     Wendys\n",
       "4                                 great app thanks alot      5     Wendys\n",
       "...                                                 ...    ...        ...\n",
       "7756        They asked for to much personal information      1  Five Guys\n",
       "7757     Won't take your CC info. Crashes all the time.      1  Five Guys\n",
       "7758  Very nice website with easy ordering and great...      5  Five Guys\n",
       "7759  can't pay with card and app takes forever to l...      1  Five Guys\n",
       "7760  This is a joke, right The App has NO WAY TO ge...      1  Five Guys\n",
       "\n",
       "[7761 rows x 3 columns]"
      ]
     },
     "execution_count": 6,
     "metadata": {},
     "output_type": "execute_result"
    }
   ],
   "source": [
    "df_uncleaned"
   ]
  },
  {
   "cell_type": "markdown",
   "id": "155accb7",
   "metadata": {},
   "source": [
    "Final columns are :\n",
    "content: contains the review written by the customer.\n",
    "score: score ranging from 1 to 5\n",
    "Restaurant: Fast food joint for which the review has been written"
   ]
  },
  {
   "cell_type": "code",
   "execution_count": 7,
   "id": "f983c782",
   "metadata": {
    "scrolled": false
   },
   "outputs": [
    {
     "name": "stdout",
     "output_type": "stream",
     "text": [
      "<class 'pandas.core.frame.DataFrame'>\n",
      "RangeIndex: 7761 entries, 0 to 7760\n",
      "Data columns (total 3 columns):\n",
      " #   Column      Non-Null Count  Dtype \n",
      "---  ------      --------------  ----- \n",
      " 0   content     7761 non-null   object\n",
      " 1   score       7761 non-null   int64 \n",
      " 2   Restaurant  7761 non-null   object\n",
      "dtypes: int64(1), object(2)\n",
      "memory usage: 182.0+ KB\n"
     ]
    }
   ],
   "source": [
    "df_uncleaned.info()"
   ]
  },
  {
   "cell_type": "markdown",
   "id": "fab63920",
   "metadata": {},
   "source": [
    "### Drop duplicate values"
   ]
  },
  {
   "cell_type": "code",
   "execution_count": 8,
   "id": "2e75e228",
   "metadata": {},
   "outputs": [
    {
     "data": {
      "text/plain": [
       "7761"
      ]
     },
     "execution_count": 8,
     "metadata": {},
     "output_type": "execute_result"
    }
   ],
   "source": [
    "len(df_uncleaned)"
   ]
  },
  {
   "cell_type": "code",
   "execution_count": 9,
   "id": "61ae76ea",
   "metadata": {},
   "outputs": [],
   "source": [
    "df_uncleaned=df_uncleaned.drop_duplicates()"
   ]
  },
  {
   "cell_type": "code",
   "execution_count": 10,
   "id": "2317ae06",
   "metadata": {
    "scrolled": true
   },
   "outputs": [
    {
     "data": {
      "text/plain": [
       "7546"
      ]
     },
     "execution_count": 10,
     "metadata": {},
     "output_type": "execute_result"
    }
   ],
   "source": [
    "len(df_uncleaned)"
   ]
  },
  {
   "cell_type": "markdown",
   "id": "5e5c9776",
   "metadata": {},
   "source": [
    "### Check for null values"
   ]
  },
  {
   "cell_type": "code",
   "execution_count": 11,
   "id": "a240149b",
   "metadata": {
    "scrolled": true
   },
   "outputs": [
    {
     "data": {
      "text/plain": [
       "0"
      ]
     },
     "execution_count": 11,
     "metadata": {},
     "output_type": "execute_result"
    }
   ],
   "source": [
    "df_uncleaned.isnull().sum().sum()"
   ]
  },
  {
   "cell_type": "markdown",
   "id": "31a3a237",
   "metadata": {},
   "source": [
    "## Sentiment Analysis"
   ]
  },
  {
   "cell_type": "code",
   "execution_count": 12,
   "id": "f397d5d7",
   "metadata": {},
   "outputs": [],
   "source": [
    "df=df_uncleaned"
   ]
  },
  {
   "cell_type": "markdown",
   "id": "6f163a89",
   "metadata": {},
   "source": [
    "### Importing positive and negative words dictionary"
   ]
  },
  {
   "cell_type": "code",
   "execution_count": 13,
   "id": "54c14173",
   "metadata": {},
   "outputs": [],
   "source": [
    "positive_words = set(nltk.corpus.opinion_lexicon.positive())\n",
    "negative_words = set(nltk.corpus.opinion_lexicon.negative())"
   ]
  },
  {
   "cell_type": "code",
   "execution_count": 14,
   "id": "3c3de275",
   "metadata": {},
   "outputs": [],
   "source": [
    "def calculate_sentiment_score(review):\n",
    "    tokens = word_tokenize(review.lower())  # Tokenize and convert to lowercase\n",
    "    filtered_tokens = [word for word in tokens if word.isalnum() and word not in stopwords.words('english')]  # Remove stopwords and non-alphanumeric tokens\n",
    "    word_count = len(filtered_tokens)\n",
    "    if word_count == 0:\n",
    "        return 0  # Handle cases where there are no valid words in the review\n",
    "    positive_score = sum(word in positive_words for word in filtered_tokens)  # Count positive words\n",
    "    negative_score = sum(word in negative_words for word in filtered_tokens)  # Count negative words\n",
    "    sentiment_score = (positive_score - negative_score) / word_count  # Calculate sentiment score per word\n",
    "    return sentiment_score"
   ]
  },
  {
   "cell_type": "code",
   "execution_count": 15,
   "id": "19bc6598",
   "metadata": {
    "scrolled": false
   },
   "outputs": [],
   "source": [
    "df['sentiment_score'] = df['content'].apply(calculate_sentiment_score)"
   ]
  },
  {
   "cell_type": "code",
   "execution_count": 16,
   "id": "c7f52eca",
   "metadata": {},
   "outputs": [
    {
     "data": {
      "text/html": [
       "<div>\n",
       "<style scoped>\n",
       "    .dataframe tbody tr th:only-of-type {\n",
       "        vertical-align: middle;\n",
       "    }\n",
       "\n",
       "    .dataframe tbody tr th {\n",
       "        vertical-align: top;\n",
       "    }\n",
       "\n",
       "    .dataframe thead th {\n",
       "        text-align: right;\n",
       "    }\n",
       "</style>\n",
       "<table border=\"1\" class=\"dataframe\">\n",
       "  <thead>\n",
       "    <tr style=\"text-align: right;\">\n",
       "      <th></th>\n",
       "      <th>content</th>\n",
       "      <th>score</th>\n",
       "      <th>Restaurant</th>\n",
       "      <th>sentiment_score</th>\n",
       "    </tr>\n",
       "  </thead>\n",
       "  <tbody>\n",
       "    <tr>\n",
       "      <th>0</th>\n",
       "      <td>The app is always having technical difficultie...</td>\n",
       "      <td>1</td>\n",
       "      <td>Wendys</td>\n",
       "      <td>-0.125000</td>\n",
       "    </tr>\n",
       "    <tr>\n",
       "      <th>1</th>\n",
       "      <td>Doesn't work most of the time. When I log in I...</td>\n",
       "      <td>1</td>\n",
       "      <td>Wendys</td>\n",
       "      <td>0.125000</td>\n",
       "    </tr>\n",
       "    <tr>\n",
       "      <th>2</th>\n",
       "      <td>The app doesn't accept any payment methods. Tr...</td>\n",
       "      <td>1</td>\n",
       "      <td>Wendys</td>\n",
       "      <td>0.000000</td>\n",
       "    </tr>\n",
       "    <tr>\n",
       "      <th>3</th>\n",
       "      <td>Good for ordering food. However, don't be dece...</td>\n",
       "      <td>1</td>\n",
       "      <td>Wendys</td>\n",
       "      <td>0.076923</td>\n",
       "    </tr>\n",
       "    <tr>\n",
       "      <th>4</th>\n",
       "      <td>great app thanks alot</td>\n",
       "      <td>5</td>\n",
       "      <td>Wendys</td>\n",
       "      <td>0.250000</td>\n",
       "    </tr>\n",
       "  </tbody>\n",
       "</table>\n",
       "</div>"
      ],
      "text/plain": [
       "                                             content  score Restaurant  \\\n",
       "0  The app is always having technical difficultie...      1     Wendys   \n",
       "1  Doesn't work most of the time. When I log in I...      1     Wendys   \n",
       "2  The app doesn't accept any payment methods. Tr...      1     Wendys   \n",
       "3  Good for ordering food. However, don't be dece...      1     Wendys   \n",
       "4                              great app thanks alot      5     Wendys   \n",
       "\n",
       "   sentiment_score  \n",
       "0        -0.125000  \n",
       "1         0.125000  \n",
       "2         0.000000  \n",
       "3         0.076923  \n",
       "4         0.250000  "
      ]
     },
     "execution_count": 16,
     "metadata": {},
     "output_type": "execute_result"
    }
   ],
   "source": [
    "df.head()"
   ]
  },
  {
   "cell_type": "code",
   "execution_count": 17,
   "id": "06b1f114",
   "metadata": {},
   "outputs": [],
   "source": [
    "restaurant_sentiment = df.groupby('Restaurant')['sentiment_score'].mean().reset_index()"
   ]
  },
  {
   "cell_type": "code",
   "execution_count": 18,
   "id": "918bf5c4",
   "metadata": {},
   "outputs": [],
   "source": [
    "restaurant_sentiment['rank'] = restaurant_sentiment['sentiment_score'].rank(ascending=False)"
   ]
  },
  {
   "cell_type": "code",
   "execution_count": 19,
   "id": "0874942c",
   "metadata": {},
   "outputs": [
    {
     "name": "stdout",
     "output_type": "stream",
     "text": [
      "Restaurant Rankings:\n",
      "    Restaurant  sentiment_score  rank\n",
      "2    Five Guys         0.095523   1.0\n",
      "0  Burger King         0.090907   2.5\n",
      "3    McDonalds         0.090907   2.5\n",
      "1  Chick-fil-A         0.083582   4.0\n",
      "4       Wendys         0.075889   5.0\n"
     ]
    }
   ],
   "source": [
    "print(\"Restaurant Rankings:\")\n",
    "print(restaurant_sentiment[['Restaurant', 'sentiment_score', 'rank']].sort_values(by='rank'))"
   ]
  }
 ],
 "metadata": {
  "kernelspec": {
   "display_name": "Python 3 (ipykernel)",
   "language": "python",
   "name": "python3"
  },
  "language_info": {
   "codemirror_mode": {
    "name": "ipython",
    "version": 3
   },
   "file_extension": ".py",
   "mimetype": "text/x-python",
   "name": "python",
   "nbconvert_exporter": "python",
   "pygments_lexer": "ipython3",
   "version": "3.11.5"
  }
 },
 "nbformat": 4,
 "nbformat_minor": 5
}
